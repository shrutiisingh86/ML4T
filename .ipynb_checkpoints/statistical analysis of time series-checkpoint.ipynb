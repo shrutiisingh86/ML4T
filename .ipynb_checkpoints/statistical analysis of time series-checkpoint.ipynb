{
 "cells": [
  {
   "cell_type": "code",
   "execution_count": 3,
   "id": "4f496b0f-e019-403e-b59c-9d84b29827b3",
   "metadata": {
    "tags": []
   },
   "outputs": [],
   "source": [
    "\n",
    "import os\n",
    "import pandas as pd\n",
    "import numpy as np\n",
    "import matplotlib.pyplot as plt"
   ]
  },
  {
   "cell_type": "code",
   "execution_count": 34,
   "id": "c429fc82-28c4-44e2-b233-a03144c6cf40",
   "metadata": {},
   "outputs": [],
   "source": [
    "def symbol_to_path(symbol, base_dir = 'data'):\n",
    "    \"\"\"Return CSV file path given ticker symbol.\"\"\"\n",
    "    return os.path.join(base_dir,\"{}.csv\".format(str(symbol)))\n",
    "\n",
    "\n",
    "def get_data(symbols, dates):\n",
    "    \"\"\"Read stock data (adjusted close) for given symbols from CSV files.\"\"\"\n",
    "    df = pd.DataFrame(index=dates)\n",
    "    \n",
    "    \n",
    "    if 'SPY' not in symbols:\n",
    "        symbols.insert(0,'SPY')\n",
    "    \n",
    "    print(symbols)\n",
    "        \n",
    "    for symbol in symbols:\n",
    "        df_temp = pd.read_csv('data/{}.csv'.format(symbol), index_col='Date',parse_dates=True, \n",
    "                              usecols=['Date','Adj Close'],na_values=['nan'])\n",
    "        df_temp.rename(columns = {'Adj Close':symbol}, inplace=True)\n",
    "        df = df.join(df_temp)\n",
    "        df.dropna(inplace=True)\n",
    "                                                         \n",
    "    return df                                        \n",
    "        \n",
    "                                                         \n",
    "    \n",
    "    \n",
    "    \n"
   ]
  },
  {
   "cell_type": "code",
   "execution_count": 64,
   "id": "98945b28-a130-4ec3-8665-98ae4039f748",
   "metadata": {
    "tags": []
   },
   "outputs": [],
   "source": [
    "def test_run():\n",
    "    # Read data define a date range\n",
    "    dates = pd.date_range('2010-01-01', '2012-12-31')\n",
    "    \n",
    "    # define the symbols\n",
    "    symbols = ['SPY','XOM','GOOG','GLD']\n",
    "    \n",
    "    # Read the data for the required symbols\n",
    "    df = get_data(symbols, dates)\n",
    "  \n",
    "    # print the data frame\n",
    "    # print(df)\n",
    "    \n",
    "    # row level slicing\n",
    "    \n",
    "    print(df.loc['2010-01-01':'2010-01-31'])\n",
    "    \n",
    "    # row & column level slicing\n",
    "    \n",
    "    print(df.loc['2010-01-01':'2010-01-31'][['SPY','GOOG']])\n",
    "    \n",
    "    "
   ]
  },
  {
   "cell_type": "code",
   "execution_count": 65,
   "id": "6cc25af3-de37-4dc3-83c0-3150863565d2",
   "metadata": {},
   "outputs": [
    {
     "name": "stdout",
     "output_type": "stream",
     "text": [
      "['SPY', 'XOM', 'GOOG', 'GLD']\n",
      "               SPY    XOM    GOOG     GLD\n",
      "2010-01-04  108.27  64.55  626.75  109.80\n",
      "2010-01-05  108.56  64.80  623.99  109.70\n",
      "2010-01-06  108.64  65.36  608.26  111.51\n",
      "2010-01-07  109.10  65.15  594.10  110.82\n",
      "2010-01-08  109.46  64.89  602.02  111.37\n",
      "2010-01-11  109.61  65.62  601.11  112.85\n",
      "2010-01-12  108.59  65.29  590.48  110.49\n",
      "2010-01-13  109.51  65.03  587.09  111.54\n",
      "2010-01-14  109.80  65.04  589.85  112.03\n",
      "2010-01-15  108.57  64.51  580.00  110.86\n",
      "2010-01-19  109.93  64.66  587.62  111.52\n",
      "2010-01-20  108.81  63.50  580.41  108.94\n",
      "2010-01-21  106.72  62.26  582.98  107.37\n",
      "2010-01-22  104.34  61.70  550.01  107.17\n",
      "2010-01-25  104.87  61.46  540.00  107.48\n",
      "2010-01-26  104.43  61.53  542.42  107.56\n",
      "2010-01-27  104.93  61.18  542.10  106.53\n",
      "2010-01-28  103.73  60.63  534.29  106.48\n",
      "2010-01-29  102.60  60.14  529.94  105.96\n",
      "               SPY    GOOG\n",
      "2010-01-04  108.27  626.75\n",
      "2010-01-05  108.56  623.99\n",
      "2010-01-06  108.64  608.26\n",
      "2010-01-07  109.10  594.10\n",
      "2010-01-08  109.46  602.02\n",
      "2010-01-11  109.61  601.11\n",
      "2010-01-12  108.59  590.48\n",
      "2010-01-13  109.51  587.09\n",
      "2010-01-14  109.80  589.85\n",
      "2010-01-15  108.57  580.00\n",
      "2010-01-19  109.93  587.62\n",
      "2010-01-20  108.81  580.41\n",
      "2010-01-21  106.72  582.98\n",
      "2010-01-22  104.34  550.01\n",
      "2010-01-25  104.87  540.00\n",
      "2010-01-26  104.43  542.42\n",
      "2010-01-27  104.93  542.10\n",
      "2010-01-28  103.73  534.29\n",
      "2010-01-29  102.60  529.94\n"
     ]
    }
   ],
   "source": [
    "if __name__ == '__main__':\n",
    "    test_run()"
   ]
  },
  {
   "cell_type": "code",
   "execution_count": null,
   "id": "69d5e2c4-8af1-4f4a-b547-68dfa4d20e87",
   "metadata": {},
   "outputs": [],
   "source": []
  }
 ],
 "metadata": {
  "kernelspec": {
   "display_name": "Python 3 (ipykernel)",
   "language": "python",
   "name": "python3"
  },
  "language_info": {
   "codemirror_mode": {
    "name": "ipython",
    "version": 3
   },
   "file_extension": ".py",
   "mimetype": "text/x-python",
   "name": "python",
   "nbconvert_exporter": "python",
   "pygments_lexer": "ipython3",
   "version": "3.10.4"
  }
 },
 "nbformat": 4,
 "nbformat_minor": 5
}
